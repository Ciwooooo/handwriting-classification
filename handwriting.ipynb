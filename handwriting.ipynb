{
 "cells": [
  {
   "cell_type": "code",
   "execution_count": 1,
   "metadata": {},
   "outputs": [],
   "source": [
    "# package imports\n",
    "import numpy as np\n",
    "from sklearn.model_selection import train_test_split, cross_val_score\n",
    "from sktime.classification.distance_based import KNeighborsTimeSeriesClassifier\n",
    "from sktime.classification.kernel_based import RocketClassifier\n",
    "from sklearn.metrics import accuracy_score\n",
    "from sktime.dists_kernels import FlatDist, ScipyDist\n",
    "from sklearn.model_selection import GridSearchCV"
   ]
  },
  {
   "cell_type": "code",
   "execution_count": 2,
   "metadata": {},
   "outputs": [],
   "source": [
    "# load the data\n",
    "data = np.load('data/ts_challenge.npz')\n",
    "\n",
    "# separate the features from the labels\n",
    "X = data['arr_0']\n",
    "y = data['arr_1']\n",
    "\n",
    "test_data = np.load('data/ts_test.npz')\n",
    "X_test = test_data['arr_0']"
   ]
  },
  {
   "cell_type": "code",
   "execution_count": 35,
   "metadata": {},
   "outputs": [
    {
     "name": "stdout",
     "output_type": "stream",
     "text": [
      "Accuracy of KNN (k=5):0.79\n"
     ]
    }
   ],
   "source": [
    "# train a baseline KNN classifier \n",
    "\n",
    "# train test split\n",
    "X_train, X_val, y_train, y_val = train_test_split(X, y, test_size=0.2, random_state=12)\n",
    "\n",
    "# iniciate the model \n",
    "eucl_dist = FlatDist(ScipyDist())\n",
    "knn = KNeighborsTimeSeriesClassifier(n_neighbors=5, distance=eucl_dist)\n",
    "\n",
    "# fit and predict\n",
    "knn.fit(X_train, y_train)\n",
    "knn_pred = knn.predict(X_val)\n",
    "print(f'Accuracy of KNN (k=5):{round(accuracy_score(y_val, knn_pred),2)}')"
   ]
  },
  {
   "cell_type": "code",
   "execution_count": 37,
   "metadata": {},
   "outputs": [
    {
     "name": "stdout",
     "output_type": "stream",
     "text": [
      "best params: {'n_neighbors': 12}\n",
      "mean accuracy: 0.71\n"
     ]
    }
   ],
   "source": [
    "# use GridSearch to tune the number of neighbours \n",
    "knn = KNeighborsTimeSeriesClassifier(distance=eucl_dist)\n",
    "\n",
    "grid = GridSearchCV(\n",
    "    estimator=knn,\n",
    "    param_grid={'n_neighbors':[5, 8, 12]},\n",
    "    cv=5\n",
    ")\n",
    "\n",
    "grid.fit(X,y)\n",
    "print('best params:', grid.best_params_)\n",
    "\n",
    "# fit a model with the selected k and test the accuracy \n",
    "\n",
    "# fit the model with selected param and evaluate \n",
    "knn_h = KNeighborsTimeSeriesClassifier(\n",
    "    n_neighbors=grid.best_params_['n_neighbors'], \n",
    "    distance=eucl_dist\n",
    ")\n",
    "cross_h = cross_val_score(\n",
    "    estimator=knn_h,\n",
    "    X=X,\n",
    "    y=y\n",
    ")\n",
    "\n",
    "print('mean accuracy:', round(np.mean(cross_h),2))"
   ]
  },
  {
   "cell_type": "code",
   "execution_count": 22,
   "metadata": {},
   "outputs": [
    {
     "name": "stdout",
     "output_type": "stream",
     "text": [
      "[0 1 0 0 0 1 0 1 0 1 1 1 1 0 0 0 1 0 0 0 0 1 0 0]\n",
      "mean accuracy: 0.7916666666666666\n"
     ]
    }
   ],
   "source": [
    "knn_h = KNeighborsTimeSeriesClassifier(\n",
    "    n_neighbors=4, \n",
    "    distance=eucl_dist\n",
    ")\n",
    "knn_h.fit(X_train, y_train)\n",
    "preds = knn_h.predict(X_val)\n",
    "print(preds)\n",
    "print('mean accuracy:', accuracy_score(y_val, preds))"
   ]
  },
  {
   "cell_type": "code",
   "execution_count": 154,
   "metadata": {},
   "outputs": [
    {
     "name": "stdout",
     "output_type": "stream",
     "text": [
      "ROCKET accuracy: 0.75\n"
     ]
    }
   ],
   "source": [
    "# train and tune a ROCKET classifier\n",
    "\n",
    "# train test split\n",
    "X_train, X_val, y_train, y_val = train_test_split(X, y, test_size=0.2, random_state=11)\n",
    "\n",
    "# fitting and predicting\n",
    "roc = RocketClassifier()\n",
    "\n",
    "roc.fit(X_train, y_train)\n",
    "roc_pred = roc.predict(X_val)\n",
    "\n",
    "print('ROCKET accuracy:', round(accuracy_score(y_val, roc_pred),2))"
   ]
  },
  {
   "cell_type": "code",
   "execution_count": 149,
   "metadata": {},
   "outputs": [
    {
     "name": "stdout",
     "output_type": "stream",
     "text": [
      "best params for ROCKET: {'max_dilations_per_kernel': 16, 'n_features_per_kernel': 4, 'num_kernels': 10000}\n"
     ]
    }
   ],
   "source": [
    "# use GridSearch to tune the params\n",
    "params = {\n",
    "    'num_kernels':[5000,10000],\n",
    "    'max_dilations_per_kernel':[16,24,32],\n",
    "    'n_features_per_kernel':[2,4]\n",
    "}\n",
    "\n",
    "# initialize a new model instance\n",
    "roc = RocketClassifier()\n",
    "\n",
    "# start the grid search\n",
    "grid = GridSearchCV(\n",
    "    estimator=roc,\n",
    "    param_grid=params,\n",
    "    cv=3\n",
    ")\n",
    "\n",
    "grid.fit(X,y)\n",
    "print('best params for ROCKET:', grid.best_params_)"
   ]
  },
  {
   "cell_type": "code",
   "execution_count": 155,
   "metadata": {},
   "outputs": [],
   "source": [
    "#fit a new instance of the model with the best params selected\n",
    "roc = RocketClassifier(\n",
    "    num_kernels=10000,\n",
    "    max_dilations_per_kernel=16,\n",
    "    n_features_per_kernel=4\n",
    ")\n",
    "# fit to the combined train and val sets\n",
    "roc.fit(X, y)\n",
    "\n",
    "# predict on the hold out test  \n",
    "roc_pred = roc.predict(X_test)\n",
    "\n",
    "# save the preds to a csv file \n",
    "np.savetxt('data/ypred.csv', roc_pred, delimiter=',')"
   ]
  }
 ],
 "metadata": {
  "kernelspec": {
   "display_name": "Python 3",
   "language": "python",
   "name": "python3"
  },
  "language_info": {
   "codemirror_mode": {
    "name": "ipython",
    "version": 3
   },
   "file_extension": ".py",
   "mimetype": "text/x-python",
   "name": "python",
   "nbconvert_exporter": "python",
   "pygments_lexer": "ipython3",
   "version": "3.12.0"
  }
 },
 "nbformat": 4,
 "nbformat_minor": 2
}
